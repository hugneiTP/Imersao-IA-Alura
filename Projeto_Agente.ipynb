{
  "nbformat": 4,
  "nbformat_minor": 0,
  "metadata": {
    "colab": {
      "provenance": [],
      "authorship_tag": "ABX9TyMXN2UlJYJApSh9wol7nA8X",
      "include_colab_link": true
    },
    "kernelspec": {
      "name": "python3",
      "display_name": "Python 3"
    },
    "language_info": {
      "name": "python"
    }
  },
  "cells": [
    {
      "cell_type": "markdown",
      "metadata": {
        "id": "view-in-github",
        "colab_type": "text"
      },
      "source": [
        "<a href=\"https://colab.research.google.com/github/hugneiTP/Imersao-IA-Alura/blob/main/Projeto_Agente.ipynb\" target=\"_parent\"><img src=\"https://colab.research.google.com/assets/colab-badge.svg\" alt=\"Open In Colab\"/></a>"
      ]
    },
    {
      "cell_type": "code",
      "source": [
        "%pip -q install google-genai"
      ],
      "metadata": {
        "id": "Dn3ma8RSIp0I"
      },
      "execution_count": 15,
      "outputs": []
    },
    {
      "cell_type": "code",
      "source": [
        "# Configura a API Key do Google Gemini\n",
        "\n",
        "import os\n",
        "from google.colab import userdata\n",
        "\n",
        "os.environ[\"GOOGLE_API_KEY\"] = userdata.get('GOOGLE_API_KEY')"
      ],
      "metadata": {
        "id": "VRZ-yRwDIpvP"
      },
      "execution_count": null,
      "outputs": []
    },
    {
      "cell_type": "code",
      "source": [
        "# Configura o cliente da SDK do Gemini\n",
        "\n",
        "from google import genai\n",
        "\n",
        "client = genai.Client()\n",
        "\n",
        "MODEL_ID = \"gemini-2.0-flash\""
      ],
      "metadata": {
        "id": "fRMWVffzIpmS"
      },
      "execution_count": null,
      "outputs": []
    },
    {
      "cell_type": "code",
      "source": [
        "# Instalar Framework ADK de agentes do Google ################################################\n",
        "%pip install -q google-adk"
      ],
      "metadata": {
        "colab": {
          "base_uri": "https://localhost:8080/"
        },
        "id": "ZvNo33DzIpYo",
        "outputId": "cba0ed32-dc95-4dc2-c78f-dc9aabbed6b7"
      },
      "execution_count": null,
      "outputs": [
        {
          "output_type": "stream",
          "name": "stdout",
          "text": [
            "\u001b[?25l   \u001b[90m━━━━━━━━━━━━━━━━━━━━━━━━━━━━━━━━━━━━━━━━\u001b[0m \u001b[32m0.0/1.2 MB\u001b[0m \u001b[31m?\u001b[0m eta \u001b[36m-:--:--\u001b[0m\r\u001b[2K   \u001b[91m━━━━━━━━━━━━━━━━━━━━━━━━━━━━━━━━━━━━━━━\u001b[0m\u001b[91m╸\u001b[0m \u001b[32m1.2/1.2 MB\u001b[0m \u001b[31m37.2 MB/s\u001b[0m eta \u001b[36m0:00:01\u001b[0m\r\u001b[2K   \u001b[90m━━━━━━━━━━━━━━━━━━━━━━━━━━━━━━━━━━━━━━━━\u001b[0m \u001b[32m1.2/1.2 MB\u001b[0m \u001b[31m23.1 MB/s\u001b[0m eta \u001b[36m0:00:00\u001b[0m\n",
            "\u001b[?25h\u001b[?25l   \u001b[90m━━━━━━━━━━━━━━━━━━━━━━━━━━━━━━━━━━━━━━━━\u001b[0m \u001b[32m0.0/232.1 kB\u001b[0m \u001b[31m?\u001b[0m eta \u001b[36m-:--:--\u001b[0m\r\u001b[2K   \u001b[90m━━━━━━━━━━━━━━━━━━━━━━━━━━━━━━━━━━━━━━━━\u001b[0m \u001b[32m232.1/232.1 kB\u001b[0m \u001b[31m11.5 MB/s\u001b[0m eta \u001b[36m0:00:00\u001b[0m\n",
            "\u001b[2K   \u001b[90m━━━━━━━━━━━━━━━━━━━━━━━━━━━━━━━━━━━━━━━━\u001b[0m \u001b[32m95.2/95.2 kB\u001b[0m \u001b[31m6.0 MB/s\u001b[0m eta \u001b[36m0:00:00\u001b[0m\n",
            "\u001b[2K   \u001b[90m━━━━━━━━━━━━━━━━━━━━━━━━━━━━━━━━━━━━━━━━\u001b[0m \u001b[32m217.1/217.1 kB\u001b[0m \u001b[31m11.1 MB/s\u001b[0m eta \u001b[36m0:00:00\u001b[0m\n",
            "\u001b[2K   \u001b[90m━━━━━━━━━━━━━━━━━━━━━━━━━━━━━━━━━━━━━━━━\u001b[0m \u001b[32m334.1/334.1 kB\u001b[0m \u001b[31m16.1 MB/s\u001b[0m eta \u001b[36m0:00:00\u001b[0m\n",
            "\u001b[2K   \u001b[90m━━━━━━━━━━━━━━━━━━━━━━━━━━━━━━━━━━━━━━━━\u001b[0m \u001b[32m125.1/125.1 kB\u001b[0m \u001b[31m6.9 MB/s\u001b[0m eta \u001b[36m0:00:00\u001b[0m\n",
            "\u001b[2K   \u001b[90m━━━━━━━━━━━━━━━━━━━━━━━━━━━━━━━━━━━━━━━━\u001b[0m \u001b[32m65.8/65.8 kB\u001b[0m \u001b[31m3.7 MB/s\u001b[0m eta \u001b[36m0:00:00\u001b[0m\n",
            "\u001b[2K   \u001b[90m━━━━━━━━━━━━━━━━━━━━━━━━━━━━━━━━━━━━━━━━\u001b[0m \u001b[32m119.0/119.0 kB\u001b[0m \u001b[31m7.2 MB/s\u001b[0m eta \u001b[36m0:00:00\u001b[0m\n",
            "\u001b[2K   \u001b[90m━━━━━━━━━━━━━━━━━━━━━━━━━━━━━━━━━━━━━━━━\u001b[0m \u001b[32m194.9/194.9 kB\u001b[0m \u001b[31m12.0 MB/s\u001b[0m eta \u001b[36m0:00:00\u001b[0m\n",
            "\u001b[2K   \u001b[90m━━━━━━━━━━━━━━━━━━━━━━━━━━━━━━━━━━━━━━━━\u001b[0m \u001b[32m62.5/62.5 kB\u001b[0m \u001b[31m3.8 MB/s\u001b[0m eta \u001b[36m0:00:00\u001b[0m\n",
            "\u001b[2K   \u001b[90m━━━━━━━━━━━━━━━━━━━━━━━━━━━━━━━━━━━━━━━━\u001b[0m \u001b[32m103.3/103.3 kB\u001b[0m \u001b[31m6.2 MB/s\u001b[0m eta \u001b[36m0:00:00\u001b[0m\n",
            "\u001b[2K   \u001b[90m━━━━━━━━━━━━━━━━━━━━━━━━━━━━━━━━━━━━━━━━\u001b[0m \u001b[32m44.4/44.4 kB\u001b[0m \u001b[31m2.9 MB/s\u001b[0m eta \u001b[36m0:00:00\u001b[0m\n",
            "\u001b[2K   \u001b[90m━━━━━━━━━━━━━━━━━━━━━━━━━━━━━━━━━━━━━━━━\u001b[0m \u001b[32m72.0/72.0 kB\u001b[0m \u001b[31m4.4 MB/s\u001b[0m eta \u001b[36m0:00:00\u001b[0m\n",
            "\u001b[?25h"
          ]
        }
      ]
    },
    {
      "cell_type": "code",
      "source": [
        "from google.adk.agents import Agent\n",
        "from google.adk.runners import Runner\n",
        "from google.adk.sessions import InMemorySessionService\n",
        "from google.adk.tools import google_search\n",
        "from google.genai import types  # Para criar conteúdos (Content e Part)\n",
        "from datetime import date\n",
        "import textwrap # Para formatar melhor a saída de texto\n",
        "from IPython.display import display, Markdown # Para exibir texto formatado no Colab\n",
        "import requests # Para fazer requisições HTTP\n",
        "import warnings\n",
        "\n",
        "warnings.filterwarnings(\"ignore\")"
      ],
      "metadata": {
        "id": "rCfxC-chIpK9"
      },
      "execution_count": null,
      "outputs": []
    },
    {
      "cell_type": "code",
      "source": [
        "# Função auxiliar que envia uma mensagem para um agente via Runner e retorna a resposta final\n",
        "def call_agent(agent: Agent, message_text: str) -> str:\n",
        "    # Cria um serviço de sessão em memória\n",
        "    session_service = InMemorySessionService()\n",
        "    # Cria uma nova sessão (você pode personalizar os IDs conforme necessário)\n",
        "    session = session_service.create_session(app_name=agent.name, user_id=\"user1\", session_id=\"session1\")\n",
        "    # Cria um Runner para o agente\n",
        "    runner = Runner(agent=agent, app_name=agent.name, session_service=session_service)\n",
        "    # Cria o conteúdo da mensagem de entrada\n",
        "    content = types.Content(role=\"user\", parts=[types.Part(text=message_text)])\n",
        "\n",
        "    final_response = \"\"\n",
        "    # Itera assincronamente pelos eventos retornados durante a execução do agente\n",
        "    for event in runner.run(user_id=\"user1\", session_id=\"session1\", new_message=content):\n",
        "        if event.is_final_response():\n",
        "          for part in event.content.parts:\n",
        "            if part.text is not None:\n",
        "              final_response += part.text\n",
        "              final_response += \"\\n\"\n",
        "    return final_response"
      ],
      "metadata": {
        "id": "T3-ZuVKaIo6_"
      },
      "execution_count": null,
      "outputs": []
    },
    {
      "cell_type": "code",
      "source": [
        "# Função auxiliar para exibir texto formatado em Markdown no Colab\n",
        "def to_markdown(text):\n",
        "  text = text.replace('•', '  *')\n",
        "  return Markdown(textwrap.indent(text, '> ', predicate=lambda _: True))"
      ],
      "metadata": {
        "id": "PJCyYTt2Iopd"
      },
      "execution_count": null,
      "outputs": []
    },
    {
      "cell_type": "code",
      "source": [
        "########################################################\n",
        "# --- Agente 1: Analisador de Notícias Financeiras --- #\n",
        "########################################################\n",
        "def agente_noticias_mercado(ativo, data_de_hoje):\n",
        "    agente = Agent(\n",
        "        name=\"agente_noticias_mercado\",\n",
        "        model=\"gemini-2.0-flash\",\n",
        "        instruction=f\"\"\"\n",
        "        Você é um analista de mercado financeiro. Use a ferramenta de busca Google_search para coletar\n",
        "        as notícias mais relevantes e recentes (últimos 15 dias) sobre o ativo {ativo}.\n",
        "        Foque em eventos econômicos, políticos ou setoriais que possam afetar o preço do ativo.\n",
        "        Classifique o viés das notícias como positivo, negativo ou neutro.\n",
        "        Forneça um resumo breve e direto.\n",
        "        \"\"\",\n",
        "        description=\"Agente que coleta e resume notícias financeiras de ativos.\",\n",
        "        tools=[google_search],\n",
        "    )\n",
        "\n",
        "    entrada = f\"Ativo: {ativo}\\nData: {data_de_hoje}\"\n",
        "    return call_agent(agente, entrada)\n"
      ],
      "metadata": {
        "id": "62Pey2imDl--"
      },
      "execution_count": null,
      "outputs": []
    },
    {
      "cell_type": "code",
      "source": [
        "########################################################\n",
        "# --- Agente 2: Analista Técnico --- #\n",
        "########################################################\n",
        "\n",
        "def agente_analise_tecnica(ativo):\n",
        "    agente = Agent(\n",
        "        name=\"agente_analise_tecnica\",\n",
        "        model=\"gemini-2.0-flash\",\n",
        "        instruction=f\"\"\"\n",
        "        Você é um analista técnico de investimentos. Sua tarefa é interpretar gráficos e padrões de preço\n",
        "        (assuma que você tem acesso aos principais indicadores técnicos, como médias móveis, RSI, MACD, etc.).\n",
        "\n",
        "        Faça uma análise técnica baseada no ativo {ativo}, usando dados recentes como referência.\n",
        "        Com base nessa análise, identifique se há tendência de alta, baixa ou indefinição.\n",
        "        Diga se há sinais de compra, venda ou manutenção.\n",
        "        \"\"\",\n",
        "        description=\"Agente especialista em análise técnica de ações e ativos.\"\n",
        "    )\n",
        "\n",
        "    entrada = f\"Ativo: {ativo}\"\n",
        "    return call_agent(agente, entrada)\n"
      ],
      "metadata": {
        "id": "rgwfrlC3D9-n"
      },
      "execution_count": 16,
      "outputs": []
    },
    {
      "cell_type": "code",
      "source": [
        "########################################################\n",
        "# --- Agente 3: Recomendador de Investimento --- #\n",
        "########################################################\n",
        "def agente_recomendador(ativo, noticias, tecnica):\n",
        "    agente = Agent(\n",
        "        name=\"agente_recomendador\",\n",
        "        model=\"gemini-2.0-flash\",\n",
        "        instruction=f\"\"\"\n",
        "        Você é um consultor de investimentos que toma decisões com base em análise técnica e notícias de mercado.\n",
        "        Seu objetivo é combinar essas informações para emitir uma recomendação clara sobre o ativo {ativo}.\n",
        "\n",
        "        Possíveis respostas:\n",
        "        - Comprar\n",
        "        - Vender\n",
        "        - Manter\n",
        "\n",
        "        Além da recomendação, forneça uma justificativa de 2 a 3 parágrafos.\n",
        "        Evite linguagem muito técnica.\n",
        "        \"\"\",\n",
        "        description=\"Agente que decide se o ativo deve ser comprado, vendido ou mantido.\"\n",
        "    )\n",
        "\n",
        "    entrada = f\"Ativo: {ativo}\\nNotícias: {noticias}\\nAnálise Técnica: {tecnica}\"\n",
        "    return call_agent(agente, entrada)\n"
      ],
      "metadata": {
        "id": "FNOKynrREoVe"
      },
      "execution_count": null,
      "outputs": []
    },
    {
      "cell_type": "code",
      "source": [
        "########################################################\n",
        "# --- Agente 4: Explicador para Leigos --- #\n",
        "########################################################\n",
        "def agente_explicador(ativo, recomendacao):\n",
        "    agente = Agent(\n",
        "        name=\"agente_explicador\",\n",
        "        model=\"gemini-2.0-flash\",\n",
        "        instruction=f\"\"\"\n",
        "        Você é um educador financeiro e deve explicar para um investidor iniciante a seguinte recomendação de investimento:\n",
        "\n",
        "        Explique de forma clara e simples o que significa a recomendação sobre o ativo {ativo}, por que ela foi feita,\n",
        "        e que cuidados a pessoa deve ter (ex: não investir sem entender riscos).\n",
        "\n",
        "        Evite jargões. Use metáforas ou analogias se necessário.\n",
        "        \"\"\",\n",
        "        description=\"Agente que traduz a recomendação para linguagem acessível ao público geral.\"\n",
        "    )\n",
        "\n",
        "    entrada = f\"Ativo: {ativo}\\nRecomendação detalhada: {recomendacao}\"\n",
        "    return call_agent(agente, entrada)\n"
      ],
      "metadata": {
        "id": "4gr6pF7OFDnv"
      },
      "execution_count": 17,
      "outputs": []
    },
    {
      "cell_type": "code",
      "source": [
        "########################################################\n",
        "# --- Bloco final: Orquestrador --- #\n",
        "########################################################\n",
        "data_de_hoje = date.today().strftime(\"%d/%m/%Y\")\n",
        "\n",
        "print(\"📈 Iniciando o Advisor de Investimentos com 4 Agentes 📊\")\n",
        "\n",
        "ativo = input(\"🔎 Digite o código do ativo ou nome da empresa que você quer analisar (ex: PETR4, AAPL, BTC): \")\n",
        "\n",
        "if not ativo:\n",
        "    print(\"❗Você esqueceu de digitar o ativo.\")\n",
        "else:\n",
        "    print(f\"\\n🔍 Buscando informações sobre: {ativo}...\\n\")\n",
        "\n",
        "    noticias = agente_noticias_mercado(ativo, data_de_hoje)\n",
        "    print(\"\\n--- Agente 1: Notícias de Mercado ---\\n\")\n",
        "    display(to_markdown(noticias))\n",
        "\n",
        "    tecnica = agente_analise_tecnica(ativo)\n",
        "    print(\"\\n--- Agente 2: Análise Técnica ---\\n\")\n",
        "    display(to_markdown(tecnica))\n",
        "\n",
        "    recomendacao = agente_recomendador(ativo, noticias, tecnica)\n",
        "    print(\"\\n--- Agente 3: Recomendação ---\\n\")\n",
        "    display(to_markdown(recomendacao))\n",
        "\n",
        "    explicacao = agente_explicador(ativo, recomendacao)\n",
        "    print(\"\\n--- Agente 4: Explicação para Leigos ---\\n\")\n",
        "    display(to_markdown(explicacao))\n",
        "\n",
        "    print(\"\\n✅ Análise completa finalizada.\")\n"
      ],
      "metadata": {
        "colab": {
          "base_uri": "https://localhost:8080/"
        },
        "id": "qhWoPlSHFoK4",
        "outputId": "b7b188cd-fe9e-4100-e441-a2933b901f61"
      },
      "execution_count": null,
      "outputs": [
        {
          "output_type": "stream",
          "name": "stdout",
          "text": [
            "📈 Iniciando o Advisor de Investimentos com 4 Agentes 📊\n"
          ]
        }
      ]
    }
  ]
}